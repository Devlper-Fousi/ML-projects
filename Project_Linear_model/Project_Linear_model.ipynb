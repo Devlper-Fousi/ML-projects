{
  "nbformat": 4,
  "nbformat_minor": 0,
  "metadata": {
    "colab": {
      "private_outputs": true,
      "provenance": []
    },
    "kernelspec": {
      "name": "python3",
      "display_name": "Python 3"
    },
    "language_info": {
      "name": "python"
    }
  },
  "cells": [
    {
      "cell_type": "code",
      "execution_count": null,
      "metadata": {
        "id": "bMVq-Fkay8Ca"
      },
      "outputs": [],
      "source": [
        "import pandas as pd\n",
        "df=pd.read_csv(\"/content/salary_data.csv\")\n",
        "df\n",
        "df.isnull().sum()\n",
        "df.shape\n",
        "x=df.iloc[:,0:1].values\n",
        "x\n",
        "y=df.iloc[:,-1].values\n",
        "y\n",
        "from sklearn.model_selection import train_test_split\n",
        "x_train,x_test,y_train,y_test=train_test_split(x,y,test_size=0.3,random_state=42)\n",
        "x_train.shape\n",
        "\n",
        "from sklearn.linear_model import LinearRegression\n",
        "lr=LinearRegression()\n",
        "lr.fit(x_train,y_train)\n",
        "y_pred=lr.predict(x_test)\n",
        "y_pred"
      ]
    },
    {
      "cell_type": "code",
      "source": [
        "df1=pd.DataFrame({\"actual\":y_test,\"predicted\":y_pred})\n",
        "df1\n",
        "\n",
        "import matplotlib.pyplot as plt\n",
        "plt.scatter(x_train,y_train,color=\"green\")\n",
        "plt.plot(x_test,y_pred,color=\"red\")\n",
        "plt.title(\"salary expectations\")\n",
        "plt.xlabel(\"exprience\")\n",
        "plt.ylabel(\"salary\")\n",
        "\n",
        "\n",
        "plt.show()"
      ],
      "metadata": {
        "id": "ZSzP8OR3zFx4"
      },
      "execution_count": null,
      "outputs": []
    },
    {
      "cell_type": "code",
      "source": [
        "print(\"slope:\",lr.coef_)\n",
        "print(\"intercept :\",lr.intercept_)\n",
        "print((9339.08172382*1.2)+25918.438334893202)"
      ],
      "metadata": {
        "id": "W6is1WJ4dqTM"
      },
      "execution_count": null,
      "outputs": []
    },
    {
      "cell_type": "code",
      "source": [
        "from sklearn.metrics import r2_score\n",
        "print(r2_score(y_test,y_pred)*100)\n"
      ],
      "metadata": {
        "id": "Zpu8ALjddvxS"
      },
      "execution_count": null,
      "outputs": []
    },
    {
      "cell_type": "code",
      "source": [
        "from sklearn.metrics import mean_squared_error,mean_absolute_error\n",
        "print(mean_squared_error(y_test,y_pred))\n",
        "print(mean_absolute_error(y_test,y_pred))"
      ],
      "metadata": {
        "id": "petZYF0sd4Vm"
      },
      "execution_count": null,
      "outputs": []
    },
    {
      "cell_type": "code",
      "source": [
        "import numpy as np\n",
        "print(np.sqrt(mean_squared_error(y_test,y_pred)))"
      ],
      "metadata": {
        "id": "tBlOLnVud9kx"
      },
      "execution_count": null,
      "outputs": []
    }
  ]
}