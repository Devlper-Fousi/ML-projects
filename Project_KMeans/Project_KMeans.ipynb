{
  "nbformat": 4,
  "nbformat_minor": 0,
  "metadata": {
    "colab": {
      "private_outputs": true,
      "provenance": []
    },
    "kernelspec": {
      "name": "python3",
      "display_name": "Python 3"
    },
    "language_info": {
      "name": "python"
    }
  },
  "cells": [
    {
      "cell_type": "code",
      "execution_count": null,
      "metadata": {
        "id": "bMVq-Fkay8Ca"
      },
      "outputs": [],
      "source": [
        "import pandas as pd\n",
        "df=pd.read_csv(\"/content/Mall_Customers.csv\")\n",
        "X=df.iloc[:,3:]\n",
        "X\n"
      ]
    },
    {
      "cell_type": "code",
      "source": [
        "from sklearn.cluster import KMeans\n",
        "km=KMeans(n_clusters=5,init=\"k-means++\",random_state=1)\n",
        "km.fit(X)\n",
        "label=km.labels_\n",
        "centroid=km.cluster_centers_\n",
        "y_pred=km.predict(X)\n",
        "y_pred"
      ],
      "metadata": {
        "id": "47jHyZp6f2ZD"
      },
      "execution_count": null,
      "outputs": []
    },
    {
      "cell_type": "code",
      "source": [
        "wcss=[]\n",
        "for i in range(1,10):\n",
        "  km=KMeans(n_clusters=i,init=\"k-means++\",random_state=1)\n",
        "  km.fit(X)\n",
        "  wcss.append(km.inertia_)"
      ],
      "metadata": {
        "id": "ZSzP8OR3zFx4"
      },
      "execution_count": null,
      "outputs": []
    },
    {
      "cell_type": "code",
      "source": [
        "import matplotlib.pyplot as plt\n",
        "plt.scatter(X[:,0],X[:,1],c=label)\n",
        "plt.scatter(centroid[:,0],centroid[:,-1],marker=\"*\",s=100,c=\"red\")"
      ],
      "metadata": {
        "id": "petZYF0sd4Vm"
      },
      "execution_count": null,
      "outputs": []
    },
    {
      "cell_type": "code",
      "source": [
        "from sklearn.metrics import silhouette_score\n",
        "silhouette_score(X,y_pred)"
      ],
      "metadata": {
        "id": "tBlOLnVud9kx"
      },
      "execution_count": null,
      "outputs": []
    }
  ]
}