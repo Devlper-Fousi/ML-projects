{
  "nbformat": 4,
  "nbformat_minor": 0,
  "metadata": {
    "colab": {
      "private_outputs": true,
      "provenance": []
    },
    "kernelspec": {
      "name": "python3",
      "display_name": "Python 3"
    },
    "language_info": {
      "name": "python"
    }
  },
  "cells": [
    {
      "cell_type": "code",
      "execution_count": null,
      "metadata": {
        "id": "bMVq-Fkay8Ca"
      },
      "outputs": [],
      "source": [
        "import pandas as pd\n",
        "df=pd.read_csv(\"/content/Wholesale customers data.csv\")\n",
        "df\n"
      ]
    },
    {
      "cell_type": "code",
      "source": [
        "from sklearn.preprocessing import normalize\n",
        "data=normalize(df)\n",
        "data"
      ],
      "metadata": {
        "id": "47jHyZp6f2ZD"
      },
      "execution_count": null,
      "outputs": []
    },
    {
      "cell_type": "code",
      "source": [
        "df.columns"
      ],
      "metadata": {
        "id": "-0SqJupllAli"
      },
      "execution_count": null,
      "outputs": []
    },
    {
      "cell_type": "code",
      "source": [
        "X=pd.DataFrame(data,columns=df.columns)\n",
        "X"
      ],
      "metadata": {
        "id": "ZSzP8OR3zFx4"
      },
      "execution_count": null,
      "outputs": []
    },
    {
      "cell_type": "code",
      "source": [
        "import scipy.cluster.hierarchy as shc\n",
        "import matplotlib.pyplot as plt\n",
        "dend=shc.dendrogram(shc.linkage(X,method=\"complete\"))\n",
        "plt.show()"
      ],
      "metadata": {
        "id": "petZYF0sd4Vm"
      },
      "execution_count": null,
      "outputs": []
    },
    {
      "cell_type": "code",
      "source": [
        "from sklearn.cluster import AgglomerativeClustering\n",
        "hc=AgglomerativeClustering(n_clusters=3,metric=\"euclidean\",linkage=\"average\")\n",
        "y_pred=hc.fit_predict(X)\n",
        "y_pred"
      ],
      "metadata": {
        "id": "tBlOLnVud9kx"
      },
      "execution_count": null,
      "outputs": []
    },
    {
      "cell_type": "code",
      "source": [
        "plt.scatter(X[\"Milk\"],X[\"Grocery\"],c=y_pred)"
      ],
      "metadata": {
        "id": "ulfJ_wg_lYIy"
      },
      "execution_count": null,
      "outputs": []
    },
    {
      "cell_type": "code",
      "source": [
        "from sklearn.metrics import silhouette_score\n",
        "silhouette_score(X,y_pred)"
      ],
      "metadata": {
        "id": "V2Xv8J67lQ1x"
      },
      "execution_count": null,
      "outputs": []
    }
  ]
}